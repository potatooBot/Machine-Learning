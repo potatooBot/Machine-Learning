{
 "cells": [
  {
   "cell_type": "code",
   "execution_count": 5,
   "metadata": {},
   "outputs": [],
   "source": [
    "import pandas as pd\n",
    "from sklearn.linear_model import LogisticRegression\n",
    "from sklearn.ensemble import RandomForestClassifier\n",
    "from sklearn.tree import DecisionTreeClassifier\n",
    "from sklearn.naive_bayes import MultinomialNB\n",
    "from sklearn.naive_bayes import GaussianNB\n",
    "from sklearn import svm\n",
    "from sklearn.datasets import load_digits\n",
    "from sklearn.model_selection import GridSearchCV\n"
   ]
  },
  {
   "cell_type": "code",
   "execution_count": 6,
   "metadata": {},
   "outputs": [],
   "source": [
    "digits =load_digits()"
   ]
  },
  {
   "cell_type": "code",
   "execution_count": 21,
   "metadata": {},
   "outputs": [],
   "source": [
    "model_params={\n",
    "    'logic_regression':{\n",
    "        \n",
    "    \n",
    "    \"model\":LogisticRegression(solver=\"liblinear\",multi_class=\"auto\"),\n",
    "    \"params\":{\n",
    "    \"C\":[1,5,10],\n",
    "   }\n",
    "    },\n",
    "     'svm': {\n",
    "        'model': svm.SVC(),\n",
    "        'params' : {\n",
    "            'C': [1,10,20],\n",
    "            'kernel': ['rbf','linear'],\n",
    "            \"gamma\" : ['scale', 'auto']\n",
    "        }  \n",
    "    },\n",
    "    'random_forest': {\n",
    "        'model': RandomForestClassifier(),\n",
    "        'params' : {\n",
    "            'n_estimators': [1,5,10]\n",
    "        }\n",
    "    },\n",
    "    \"multi_nb\":{\n",
    "        'model':MultinomialNB(),\n",
    "       \"params\":{\n",
    "           \"alpha\":[1,5,10],\n",
    "       }\n",
    "    },\n",
    "       \"gaus_nb\":{\n",
    "        'model':GaussianNB(),\n",
    "       \"params\":{\n",
    "           \n",
    "       }\n",
    "    },\n",
    "    \"decsion_tree\":{\n",
    "        'model':DecisionTreeClassifier(),\n",
    "        \"params\":{\n",
    "            \"criterion\" : [\"gini\", \"entropy\"]\n",
    "        }\n",
    "    }\n",
    "}\n"
   ]
  },
  {
   "cell_type": "code",
   "execution_count": 22,
   "metadata": {},
   "outputs": [
    {
     "data": {
      "text/html": [
       "<div>\n",
       "<style scoped>\n",
       "    .dataframe tbody tr th:only-of-type {\n",
       "        vertical-align: middle;\n",
       "    }\n",
       "\n",
       "    .dataframe tbody tr th {\n",
       "        vertical-align: top;\n",
       "    }\n",
       "\n",
       "    .dataframe thead th {\n",
       "        text-align: right;\n",
       "    }\n",
       "</style>\n",
       "<table border=\"1\" class=\"dataframe\">\n",
       "  <thead>\n",
       "    <tr style=\"text-align: right;\">\n",
       "      <th></th>\n",
       "      <th>model</th>\n",
       "      <th>best_score</th>\n",
       "      <th>best_params</th>\n",
       "    </tr>\n",
       "  </thead>\n",
       "  <tbody>\n",
       "    <tr>\n",
       "      <th>0</th>\n",
       "      <td>logic_regression</td>\n",
       "      <td>0.922114</td>\n",
       "      <td>{'C': 1}</td>\n",
       "    </tr>\n",
       "    <tr>\n",
       "      <th>1</th>\n",
       "      <td>svm</td>\n",
       "      <td>0.973850</td>\n",
       "      <td>{'C': 10, 'gamma': 'scale', 'kernel': 'rbf'}</td>\n",
       "    </tr>\n",
       "    <tr>\n",
       "      <th>2</th>\n",
       "      <td>random_forest</td>\n",
       "      <td>0.895412</td>\n",
       "      <td>{'n_estimators': 10}</td>\n",
       "    </tr>\n",
       "    <tr>\n",
       "      <th>3</th>\n",
       "      <td>multi_nb</td>\n",
       "      <td>0.874246</td>\n",
       "      <td>{'alpha': 10}</td>\n",
       "    </tr>\n",
       "    <tr>\n",
       "      <th>4</th>\n",
       "      <td>gaus_nb</td>\n",
       "      <td>0.806928</td>\n",
       "      <td>{}</td>\n",
       "    </tr>\n",
       "    <tr>\n",
       "      <th>5</th>\n",
       "      <td>decsion_tree</td>\n",
       "      <td>0.808582</td>\n",
       "      <td>{'criterion': 'entropy'}</td>\n",
       "    </tr>\n",
       "  </tbody>\n",
       "</table>\n",
       "</div>"
      ],
      "text/plain": [
       "              model  best_score                                   best_params\n",
       "0  logic_regression    0.922114                                      {'C': 1}\n",
       "1               svm    0.973850  {'C': 10, 'gamma': 'scale', 'kernel': 'rbf'}\n",
       "2     random_forest    0.895412                          {'n_estimators': 10}\n",
       "3          multi_nb    0.874246                                 {'alpha': 10}\n",
       "4           gaus_nb    0.806928                                            {}\n",
       "5      decsion_tree    0.808582                      {'criterion': 'entropy'}"
      ]
     },
     "execution_count": 22,
     "metadata": {},
     "output_type": "execute_result"
    }
   ],
   "source": [
    "scores=[]\n",
    "for model_name,mp in model_params.items():\n",
    "    clf=GridSearchCV(mp[\"model\"],mp[\"params\"],cv=5,return_train_score=False)\n",
    "    clf.fit(digits.data,digits.target)\n",
    "    scores.append({\n",
    "        \"model\":model_name,\n",
    "        \"best_score\":clf.best_score_,\n",
    "        \"best_params\":clf.best_params_\n",
    "    })\n",
    "df = pd.DataFrame(scores,columns=['model','best_score','best_params'])\n",
    "df"
   ]
  }
 ],
 "metadata": {
  "kernelspec": {
   "display_name": "Python 3.10.0 64-bit",
   "language": "python",
   "name": "python3"
  },
  "language_info": {
   "codemirror_mode": {
    "name": "ipython",
    "version": 3
   },
   "file_extension": ".py",
   "mimetype": "text/x-python",
   "name": "python",
   "nbconvert_exporter": "python",
   "pygments_lexer": "ipython3",
   "version": "3.10.0"
  },
  "orig_nbformat": 4,
  "vscode": {
   "interpreter": {
    "hash": "8ef873d6a9fb09128c51ca24f57d685a29a4c4cb4919f17482f419e89ebc151a"
   }
  }
 },
 "nbformat": 4,
 "nbformat_minor": 2
}
